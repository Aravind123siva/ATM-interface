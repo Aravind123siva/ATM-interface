{
 "cells": [
  {
   "cell_type": "code",
   "execution_count": 3,
   "id": "b83045b3-fabc-4d50-b154-1d13fa3cfe03",
   "metadata": {},
   "outputs": [
    {
     "name": "stdin",
     "output_type": "stream",
     "text": [
      "Enter user ID:  123456\n",
      "Enter PIN:  1234\n"
     ]
    },
    {
     "name": "stdout",
     "output_type": "stream",
     "text": [
      "\n",
      "1. Transaction History\n",
      "2. Withdraw\n",
      "3. Deposit\n",
      "4. Transfer\n",
      "5. Quit\n"
     ]
    },
    {
     "name": "stdin",
     "output_type": "stream",
     "text": [
      "Enter your choice:  2\n",
      "Enter amount to withdraw:  1000\n"
     ]
    },
    {
     "name": "stdout",
     "output_type": "stream",
     "text": [
      "Withdrawal successful. Remaining balance: 0.0\n",
      "\n",
      "1. Transaction History\n",
      "2. Withdraw\n",
      "3. Deposit\n",
      "4. Transfer\n",
      "5. Quit\n"
     ]
    },
    {
     "name": "stdin",
     "output_type": "stream",
     "text": [
      "Enter your choice:  3\n",
      "Enter amount to deposit:  1000\n"
     ]
    },
    {
     "name": "stdout",
     "output_type": "stream",
     "text": [
      "Deposit successful. New balance: 1000.0\n",
      "\n",
      "1. Transaction History\n",
      "2. Withdraw\n",
      "3. Deposit\n",
      "4. Transfer\n",
      "5. Quit\n"
     ]
    },
    {
     "name": "stdin",
     "output_type": "stream",
     "text": [
      "Enter your choice:  5\n"
     ]
    },
    {
     "name": "stdout",
     "output_type": "stream",
     "text": [
      "Exiting the ATM. Goodbye!\n"
     ]
    }
   ],
   "source": [
    "class User:\n",
    "    def __init__(self, user_id, pin, balance):\n",
    "        self.user_id = user_id\n",
    "        self.pin = pin\n",
    "        self.balance = balance\n",
    "\n",
    "    def authenticate(self, pin):\n",
    "        return self.pin == pin\n",
    "\n",
    "\n",
    "class ATM:\n",
    "    def __init__(self):\n",
    "        self.users = {}  \n",
    "        self.current_user = None\n",
    "\n",
    "    def load_users(self):\n",
    "       \n",
    "        self.users = {\n",
    "            '123456': User('123456', '1234', 1000),\n",
    "            '654321': User('654321', '4321', 2000)\n",
    "        }\n",
    "\n",
    "    def start(self):\n",
    "        self.load_users()\n",
    "        while True:\n",
    "            user_id = input(\"Enter user ID: \")\n",
    "            pin = input(\"Enter PIN: \")\n",
    "            if user_id in self.users and self.users[user_id].authenticate(pin):\n",
    "                self.current_user = self.users[user_id]\n",
    "                self.display_menu()\n",
    "                break\n",
    "            else:\n",
    "                print(\"Invalid user ID or PIN. Please try again.\")\n",
    "\n",
    "    def display_menu(self):\n",
    "        while True:\n",
    "            print(\"\\n1. Transaction History\")\n",
    "            print(\"2. Withdraw\")\n",
    "            print(\"3. Deposit\")\n",
    "            print(\"4. Transfer\")\n",
    "            print(\"5. Quit\")\n",
    "            choice = input(\"Enter your choice: \")\n",
    "            if choice == '1':\n",
    "                self.transaction_history()\n",
    "            elif choice == '2':\n",
    "                self.withdraw()\n",
    "            elif choice == '3':\n",
    "                self.deposit()\n",
    "            elif choice == '4':\n",
    "                self.transfer()\n",
    "            elif choice == '5':\n",
    "                self.quit()\n",
    "                break\n",
    "            else:\n",
    "                print(\"Invalid choice. Please try again.\")\n",
    "\n",
    "    def transaction_history(self):\n",
    "        print(\"Transaction History:\")\n",
    "       \n",
    "\n",
    "    def withdraw(self):\n",
    "        amount = float(input(\"Enter amount to withdraw: \"))\n",
    "        if amount > 0 and amount <= self.current_user.balance:\n",
    "            self.current_user.balance -= amount\n",
    "            print(\"Withdrawal successful. Remaining balance:\", self.current_user.balance)\n",
    "        else:\n",
    "            print(\"Invalid amount or insufficient balance.\")\n",
    "\n",
    "    def deposit(self):\n",
    "        amount = float(input(\"Enter amount to deposit: \"))\n",
    "        if amount > 0:\n",
    "            self.current_user.balance += amount\n",
    "            print(\"Deposit successful. New balance:\", self.current_user.balance)\n",
    "        else:\n",
    "            print(\"Invalid amount.\")\n",
    "\n",
    "    def transfer(self):\n",
    "        recipient_id = input(\"Enter recipient's user ID: \")\n",
    "        if recipient_id in self.users:\n",
    "            recipient = self.users[recipient_id]\n",
    "            amount = float(input(\"Enter amount to transfer: \"))\n",
    "            if amount > 0 and amount <= self.current_user.balance:\n",
    "                self.current_user.balance -= amount\n",
    "                recipient.balance += amount\n",
    "                print(\"Transfer successful.\")\n",
    "            else:\n",
    "                print(\"Invalid amount or insufficient balance.\")\n",
    "        else:\n",
    "            print(\"Recipient not found.\")\n",
    "\n",
    "    def quit(self):\n",
    "        print(\"Exiting the ATM. Goodbye!\")\n",
    "\n",
    "\n",
    "if __name__ == \"__main__\":\n",
    "    atm = ATM()\n",
    "    atm.start()\n"
   ]
  },
  {
   "cell_type": "code",
   "execution_count": null,
   "id": "4d66a716-b3c2-47a8-a51e-04002298e5af",
   "metadata": {},
   "outputs": [],
   "source": []
  },
  {
   "cell_type": "code",
   "execution_count": null,
   "id": "883a9711-56cc-4c87-bcc2-882a04e86ad3",
   "metadata": {},
   "outputs": [],
   "source": []
  }
 ],
 "metadata": {
  "kernelspec": {
   "display_name": "Python 3 (ipykernel)",
   "language": "python",
   "name": "python3"
  },
  "language_info": {
   "codemirror_mode": {
    "name": "ipython",
    "version": 3
   },
   "file_extension": ".py",
   "mimetype": "text/x-python",
   "name": "python",
   "nbconvert_exporter": "python",
   "pygments_lexer": "ipython3",
   "version": "3.11.7"
  }
 },
 "nbformat": 4,
 "nbformat_minor": 5
}
